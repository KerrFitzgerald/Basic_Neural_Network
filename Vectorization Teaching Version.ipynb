{
 "cells": [
  {
   "cell_type": "markdown",
   "id": "artificial-oxford",
   "metadata": {},
   "source": [
    "# Vectorization Examples"
   ]
  },
  {
   "cell_type": "markdown",
   "id": "tamil-booth",
   "metadata": {},
   "source": [
    "# Import necessary libraries"
   ]
  },
  {
   "cell_type": "code",
   "execution_count": 1,
   "id": "waiting-resistance",
   "metadata": {},
   "outputs": [],
   "source": [
    "import numpy as np\n",
    "import math\n",
    "import time"
   ]
  },
  {
   "cell_type": "markdown",
   "id": "neural-botswana",
   "metadata": {},
   "source": [
    "# Set Array & List Sizes"
   ]
  },
  {
   "cell_type": "code",
   "execution_count": 2,
   "id": "known-universal",
   "metadata": {},
   "outputs": [],
   "source": [
    "size = 1000000"
   ]
  },
  {
   "cell_type": "markdown",
   "id": "representative-objective",
   "metadata": {},
   "source": [
    "# Set Number of Tests"
   ]
  },
  {
   "cell_type": "code",
   "execution_count": 3,
   "id": "consolidated-handling",
   "metadata": {},
   "outputs": [],
   "source": [
    "num_tests = 5"
   ]
  },
  {
   "cell_type": "markdown",
   "id": "driving-webster",
   "metadata": {},
   "source": [
    "# Creation: List vs Array"
   ]
  },
  {
   "cell_type": "code",
   "execution_count": 4,
   "id": "addressed-bargain",
   "metadata": {},
   "outputs": [
    {
     "name": "stdout",
     "output_type": "stream",
     "text": [
      "Average time taken using NumPy: 0.00779576301574707 seconds\n",
      "Average time taken using Python list: 0.565802526473999 seconds\n",
      "NumPy speed increase factor of 72.57821015481163\n",
      "[0. 1. 2. 3. 4. 5. 6. 7. 8. 9.]\n",
      "[0.0, 1.0, 2.0, 3.0, 4.0, 5.0, 6.0, 7.0, 8.0, 9.0]\n"
     ]
    }
   ],
   "source": [
    "#NumPy array creation\n",
    "tot_time = 0\n",
    "for j in range(0,num_tests):\n",
    "    # calculating execution time \n",
    "    initialTime = time.time()\n",
    "    x_array = np.arange(size, dtype='float')\n",
    "    t1 = time.time() - initialTime\n",
    "    tot_time += t1\n",
    "    #print(tot_time)\n",
    "arr_time = tot_time/num_tests \n",
    "print(\"Average time taken using NumPy:\",\n",
    "      (arr_time),\n",
    "      \"seconds\")\n",
    "\n",
    "#Pyton list creation\n",
    "tot_time = 0\n",
    "for j in range(0,num_tests):\n",
    "    # calculating execution time\n",
    "    initialTime = time.time()\n",
    "    x_list = []\n",
    "    for i in range(0,size):\n",
    "        x_list.append(float(i)) \n",
    "    t1 = time.time() - initialTime\n",
    "    tot_time += t1\n",
    "    #print(tot_time)\n",
    "list_time = tot_time/num_tests  \n",
    "print(\"Average time taken using Python list:\",\n",
    "      (list_time),\n",
    "      \"seconds\")\n",
    "\n",
    "print('NumPy speed increase factor of',list_time/arr_time)\n",
    "\n",
    "print(x_array[0:10])\n",
    "print(x_list[0:10])"
   ]
  },
  {
   "cell_type": "markdown",
   "id": "other-lindsay",
   "metadata": {},
   "source": [
    "# Scalar Addition: NumPy vs 'for' loop"
   ]
  },
  {
   "cell_type": "code",
   "execution_count": 5,
   "id": "leading-architecture",
   "metadata": {},
   "outputs": [
    {
     "name": "stdout",
     "output_type": "stream",
     "text": [
      "Average time taken using NumPy: 0.009194231033325196 seconds\n",
      "Average time taken using for loop: 0.7115009784698486 seconds\n",
      "NumPy speed increase factor of 77.38558840766115\n",
      "[ 3.21  4.21  5.21  6.21  7.21  8.21  9.21 10.21 11.21 12.21]\n",
      "[ 3.21  4.21  5.21  6.21  7.21  8.21  9.21 10.21 11.21 12.21]\n"
     ]
    }
   ],
   "source": [
    "a = np.arange(size, dtype='float')\n",
    "\n",
    "#NumPy array scalar addition\n",
    "tot_time = 0\n",
    "for j in range(0,num_tests):\n",
    "    # calculating execution time \n",
    "    initialTime = time.time()\n",
    "    c_np = a + 3.21\n",
    "    t1 = time.time() - initialTime\n",
    "    tot_time += t1\n",
    "    #print(tot_time)\n",
    "np_time = tot_time/num_tests \n",
    "print(\"Average time taken using NumPy:\",\n",
    "      (np_time),\n",
    "      \"seconds\")\n",
    "\n",
    "#Pyton for loop array addition\n",
    "tot_time = 0\n",
    "for j in range(0,num_tests):\n",
    "    c_for = np.zeros(size, dtype='float')\n",
    "    # calculating execution time\n",
    "    initialTime = time.time()\n",
    "    for i in range(0,size):\n",
    "        c_for[i] = a[i] + 3.21 \n",
    "    t1 = time.time() - initialTime\n",
    "    tot_time += t1\n",
    "    #print(tot_time)\n",
    "for_time = tot_time/num_tests  \n",
    "print(\"Average time taken using for loop:\",\n",
    "      (for_time),\n",
    "      \"seconds\")\n",
    "\n",
    "print('NumPy speed increase factor of',for_time/np_time)\n",
    "\n",
    "print(c_np[0:10])\n",
    "print(c_for[0:10])"
   ]
  },
  {
   "cell_type": "markdown",
   "id": "early-consortium",
   "metadata": {},
   "source": [
    "# Array Addition: NumPy vs 'for' loop"
   ]
  },
  {
   "cell_type": "code",
   "execution_count": 6,
   "id": "efficient-overhead",
   "metadata": {},
   "outputs": [
    {
     "name": "stdout",
     "output_type": "stream",
     "text": [
      "Average time taken using NumPy: 0.00939474105834961 seconds\n",
      "Average time taken using for loop: 1.135395097732544 seconds\n",
      "NumPy speed increase factor of 120.85432591284223\n",
      "[ 0.  2.  4.  6.  8. 10. 12. 14. 16. 18.]\n",
      "[ 0.  2.  4.  6.  8. 10. 12. 14. 16. 18.]\n"
     ]
    }
   ],
   "source": [
    "a = np.arange(size, dtype='float')\n",
    "b = np.arange(size, dtype='float')\n",
    "\n",
    "#NumPy array addition\n",
    "tot_time = 0\n",
    "for j in range(0,num_tests):\n",
    "    # calculating execution time \n",
    "    initialTime = time.time()\n",
    "    c_np = np.add(a,b)\n",
    "    t1 = time.time() - initialTime\n",
    "    tot_time += t1\n",
    "    #print(tot_time)\n",
    "np_time = tot_time/num_tests \n",
    "print(\"Average time taken using NumPy:\",\n",
    "      (np_time),\n",
    "      \"seconds\")\n",
    "\n",
    "#Pyton for loop array addition\n",
    "tot_time = 0\n",
    "for j in range(0,num_tests):\n",
    "    c_for = np.zeros(size)\n",
    "    # calculating execution time\n",
    "    initialTime = time.time()\n",
    "    for i in range(0,size):\n",
    "        c_for[i] = a[i] + b[i] \n",
    "    t1 = time.time() - initialTime\n",
    "    tot_time += t1\n",
    "    #print(tot_time)\n",
    "for_time = tot_time/num_tests  \n",
    "print(\"Average time taken using for loop:\",\n",
    "      (for_time),\n",
    "      \"seconds\")\n",
    "\n",
    "print('NumPy speed increase factor of',for_time/np_time)\n",
    "\n",
    "print(c_np[0:10])\n",
    "print(c_for[0:10])"
   ]
  },
  {
   "cell_type": "markdown",
   "id": "published-services",
   "metadata": {},
   "source": [
    "# Scalar Multiplication"
   ]
  },
  {
   "cell_type": "code",
   "execution_count": 7,
   "id": "surgical-cement",
   "metadata": {},
   "outputs": [
    {
     "name": "stdout",
     "output_type": "stream",
     "text": [
      "Average time taken using NumPy: 0.009594058990478516 seconds\n",
      "Average time taken using for loop: 0.707029390335083 seconds\n",
      "NumPy speed increase factor of 73.69450104869733\n",
      "[ 0.   5.2 10.4 15.6 20.8 26.  31.2 36.4 41.6 46.8]\n",
      "[ 0.   5.2 10.4 15.6 20.8 26.  31.2 36.4 41.6 46.8]\n"
     ]
    }
   ],
   "source": [
    "a = np.arange(size, dtype='float')\n",
    "\n",
    "#NumPy array scalar multiplication\n",
    "tot_time = 0\n",
    "for j in range(0,num_tests):\n",
    "    # calculating execution time \n",
    "    initialTime = time.time()\n",
    "    c_np = 5.2 * a\n",
    "    t1 = time.time() - initialTime\n",
    "    tot_time += t1\n",
    "    #print(tot_time)\n",
    "np_time = tot_time/num_tests \n",
    "print(\"Average time taken using NumPy:\",\n",
    "      (np_time),\n",
    "      \"seconds\")\n",
    "\n",
    "#Pyton for loop array scalar multiplication\n",
    "tot_time = 0\n",
    "for j in range(0,num_tests):\n",
    "    c_for = np.zeros(size, dtype='float')\n",
    "    # calculating execution time\n",
    "    initialTime = time.time()\n",
    "    for i in range(0,size):\n",
    "        c_for[i] = 5.2 * a[i] \n",
    "    t1 = time.time() - initialTime\n",
    "    tot_time += t1\n",
    "    #print(tot_time)\n",
    "for_time = tot_time/num_tests  \n",
    "print(\"Average time taken using for loop:\",\n",
    "      (for_time),\n",
    "      \"seconds\")\n",
    "\n",
    "print('NumPy speed increase factor of',for_time/np_time)\n",
    "\n",
    "print(c_np[0:10])\n",
    "print(c_for[0:10])"
   ]
  },
  {
   "cell_type": "markdown",
   "id": "reverse-prize",
   "metadata": {},
   "source": [
    "# Array Multiplication: NumPy vs 'for' loop"
   ]
  },
  {
   "cell_type": "code",
   "execution_count": 8,
   "id": "white-creativity",
   "metadata": {},
   "outputs": [
    {
     "name": "stdout",
     "output_type": "stream",
     "text": [
      "Average time taken using NumPy: 0.045017576217651366 seconds\n",
      "Average time taken using for loop: 0.9997753620147705 seconds\n",
      "NumPy speed increase factor of 22.208555991132172\n",
      "[ 0.  1.  4.  9. 16. 25. 36. 49. 64. 81.]\n",
      "[ 0.  1.  4.  9. 16. 25. 36. 49. 64. 81.]\n"
     ]
    }
   ],
   "source": [
    "a = np.arange(size, dtype='float')\n",
    "b = np.arange(size, dtype='float')\n",
    "\n",
    "#NumPy array addition\n",
    "tot_time = 0\n",
    "for j in range(0,num_tests):\n",
    "    # calculating execution time \n",
    "    initialTime = time.time()\n",
    "    c_np = a * b\n",
    "    t1 = time.time() - initialTime\n",
    "    tot_time += t1\n",
    "    #print(tot_time)\n",
    "np_time = tot_time/num_tests \n",
    "print(\"Average time taken using NumPy:\",\n",
    "      (np_time),\n",
    "      \"seconds\")\n",
    "\n",
    "#Pyton for loop array addition\n",
    "tot_time = 0\n",
    "for j in range(0,num_tests):\n",
    "    c_for = np.zeros(size, dtype='float')\n",
    "    # calculating execution time\n",
    "    initialTime = time.time()\n",
    "    for i in range(0,size):\n",
    "        c_for[i] = a[i] * b[i] \n",
    "    t1 = time.time() - initialTime\n",
    "    tot_time += t1\n",
    "    #print(tot_time)\n",
    "for_time = tot_time/num_tests  \n",
    "print(\"Average time taken using for loop:\",\n",
    "      (for_time),\n",
    "      \"seconds\")\n",
    "\n",
    "print('NumPy speed increase factor of',for_time/np_time)\n",
    "\n",
    "print(c_np[0:10])\n",
    "print(c_for[0:10])"
   ]
  },
  {
   "cell_type": "markdown",
   "id": "chicken-expansion",
   "metadata": {},
   "source": [
    "# Applying a Function: NumPy vs 'for' loop"
   ]
  },
  {
   "cell_type": "code",
   "execution_count": 10,
   "id": "quick-victory",
   "metadata": {},
   "outputs": [
    {
     "name": "stdout",
     "output_type": "stream",
     "text": [
      "Average time taken using NumPy: 0.03549714088439941 seconds\n",
      "Average time taken using for loop: 2.85101900100708 seconds\n",
      "NumPy speed increase factor of 80.3168629916352\n",
      "[ 0.          0.84147098  0.90929743  0.14112001 -0.7568025  -0.95892427\n",
      " -0.2794155   0.6569866   0.98935825  0.41211849]\n",
      "[ 0.          0.84147098  0.90929743  0.14112001 -0.7568025  -0.95892427\n",
      " -0.2794155   0.6569866   0.98935825  0.41211849]\n"
     ]
    }
   ],
   "source": [
    "a = np.arange(size, dtype='float')\n",
    "\n",
    "#NumPy array apply exponential function to all array elements\n",
    "tot_time = 0\n",
    "for j in range(0,num_tests):\n",
    "    # calculating execution time \n",
    "    initialTime = time.time()\n",
    "    c_np = np.sin(a)\n",
    "    t1 = time.time() - initialTime\n",
    "    tot_time += t1\n",
    "    #print(tot_time)\n",
    "np_time = tot_time/num_tests \n",
    "print(\"Average time taken using NumPy:\",\n",
    "      (np_time),\n",
    "      \"seconds\")\n",
    "\n",
    "#Pyton for loop apply exponential function to all array elements\n",
    "tot_time = 0\n",
    "for j in range(0,num_tests):\n",
    "    c_for = np.zeros(size, dtype='float')\n",
    "    # calculating execution time\n",
    "    initialTime = time.time()\n",
    "    for i in range(0,size):\n",
    "        c_for[i] =  np.sin(a[i]) # could use math.sin(a[i]) to avoid NumPy confusion\n",
    "    t1 = time.time() - initialTime\n",
    "    tot_time += t1\n",
    "    #print(tot_time)\n",
    "for_time = tot_time/num_tests  \n",
    "print(\"Average time taken using for loop:\",\n",
    "      (for_time),\n",
    "      \"seconds\")\n",
    "\n",
    "print('NumPy speed increase factor of',for_time/np_time)\n",
    "\n",
    "print(c_np[0:10])\n",
    "print(c_for[0:10])"
   ]
  },
  {
   "cell_type": "code",
   "execution_count": null,
   "id": "blessed-founder",
   "metadata": {},
   "outputs": [],
   "source": []
  }
 ],
 "metadata": {
  "kernelspec": {
   "display_name": "Python 3",
   "language": "python",
   "name": "python3"
  },
  "language_info": {
   "codemirror_mode": {
    "name": "ipython",
    "version": 3
   },
   "file_extension": ".py",
   "mimetype": "text/x-python",
   "name": "python",
   "nbconvert_exporter": "python",
   "pygments_lexer": "ipython3",
   "version": "3.7.3"
  }
 },
 "nbformat": 4,
 "nbformat_minor": 5
}
